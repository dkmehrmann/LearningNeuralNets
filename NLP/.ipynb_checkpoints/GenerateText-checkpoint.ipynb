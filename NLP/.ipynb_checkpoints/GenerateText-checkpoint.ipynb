{
 "cells": [
  {
   "cell_type": "markdown",
   "metadata": {},
   "source": [
    "mostly taken from https://github.com/keras-team/keras/blob/master/examples/lstm_text_generation.py"
   ]
  },
  {
   "cell_type": "code",
   "execution_count": 1,
   "metadata": {},
   "outputs": [
    {
     "name": "stderr",
     "output_type": "stream",
     "text": [
      "Using TensorFlow backend.\n"
     ]
    }
   ],
   "source": [
    "from keras.callbacks import LambdaCallback\n",
    "from keras.models import Sequential\n",
    "from keras.layers import Dense\n",
    "from keras.layers import LSTM\n",
    "from keras.optimizers import RMSprop\n",
    "from keras.utils.data_utils import get_file\n",
    "import numpy as np\n",
    "import random\n",
    "import sys\n",
    "import io"
   ]
  },
  {
   "cell_type": "code",
   "execution_count": 64,
   "metadata": {},
   "outputs": [
    {
     "name": "stdout",
     "output_type": "stream",
     "text": [
      "corpus length: 600893\n"
     ]
    }
   ],
   "source": [
    "path = get_file(\n",
    "    'nietzsche.txt',\n",
    "    origin='https://s3.amazonaws.com/text-datasets/nietzsche.txt')\n",
    "with io.open(path, encoding='utf-8') as f:\n",
    "    text = f.read().lower()\n",
    "print('corpus length:', len(text))\n",
    "\n",
    "# use only the first 100k chars\n",
    "text = text.replace(\"\\n\", \" \")[:100000]"
   ]
  },
  {
   "cell_type": "code",
   "execution_count": 65,
   "metadata": {},
   "outputs": [
    {
     "name": "stdout",
     "output_type": "stream",
     "text": [
      "total chars: 51\n",
      "nb sequences: 33320\n",
      "Vectorization...\n"
     ]
    }
   ],
   "source": [
    "chars = sorted(list(set(text)))\n",
    "print('total chars:', len(chars))\n",
    "char_indices = dict((c, i) for i, c in enumerate(chars))\n",
    "indices_char = dict((i, c) for i, c in enumerate(chars))\n",
    "\n",
    "# cut the text in semi-redundant sequences of maxlen characters\n",
    "maxlen = 40\n",
    "step = 3\n",
    "\n",
    "\n",
    "sentences = []\n",
    "next_chars = []\n",
    "for i in range(0, len(text) - maxlen, step):\n",
    "    sentences.append(text[i: i + maxlen])\n",
    "    next_chars.append(text[i + maxlen])\n",
    "print('nb sequences:', len(sentences))\n",
    "\n",
    "print('Vectorization...')\n",
    "x = np.zeros((len(sentences), maxlen, len(chars)), dtype=np.bool)\n",
    "y = np.zeros((len(sentences), len(chars)), dtype=np.bool)\n",
    "for i, sentence in enumerate(sentences):\n",
    "    for t, char in enumerate(sentence):\n",
    "        x[i, t, char_indices[char]] = 1\n",
    "    y[i, char_indices[next_chars[i]]] = 1"
   ]
  },
  {
   "cell_type": "code",
   "execution_count": 66,
   "metadata": {},
   "outputs": [
    {
     "data": {
      "text/plain": [
       "(33320, 40, 51)"
      ]
     },
     "execution_count": 66,
     "metadata": {},
     "output_type": "execute_result"
    }
   ],
   "source": [
    "x.shape"
   ]
  },
  {
   "cell_type": "code",
   "execution_count": 67,
   "metadata": {},
   "outputs": [
    {
     "data": {
      "text/plain": [
       "'preface   supposing that truth is a woma'"
      ]
     },
     "execution_count": 67,
     "metadata": {},
     "output_type": "execute_result"
    }
   ],
   "source": [
    "sentences[0]"
   ]
  },
  {
   "cell_type": "code",
   "execution_count": 68,
   "metadata": {},
   "outputs": [
    {
     "data": {
      "text/plain": [
       "array([False, False, False, False, False, False, False, False, False,\n",
       "       False, False, False, False, False, False, False, False, False,\n",
       "       False, False, False, False, False, False, False, False, False,\n",
       "       False, False, False, False, False, False, False, False, False,\n",
       "       False, False, False, False,  True, False, False, False, False,\n",
       "       False, False, False, False, False, False])"
      ]
     },
     "execution_count": 68,
     "metadata": {},
     "output_type": "execute_result"
    }
   ],
   "source": [
    "# this is how a \"p\" is represented\n",
    "x[0, 0]"
   ]
  },
  {
   "cell_type": "code",
   "execution_count": 69,
   "metadata": {},
   "outputs": [
    {
     "name": "stdout",
     "output_type": "stream",
     "text": [
      "Build model...\n"
     ]
    }
   ],
   "source": [
    "# build the model: a single LSTM\n",
    "print('Build model...')\n",
    "model = Sequential()\n",
    "model.add(LSTM(64, input_shape=(maxlen, len(chars))))\n",
    "model.add(Dense(len(chars), activation='softmax'))\n",
    "\n",
    "optimizer = RMSprop(lr=0.01)\n",
    "model.compile(loss='categorical_crossentropy', optimizer=optimizer)"
   ]
  },
  {
   "cell_type": "code",
   "execution_count": 70,
   "metadata": {},
   "outputs": [
    {
     "name": "stdout",
     "output_type": "stream",
     "text": [
      "_________________________________________________________________\n",
      "Layer (type)                 Output Shape              Param #   \n",
      "=================================================================\n",
      "lstm_2 (LSTM)                (None, 64)                29696     \n",
      "_________________________________________________________________\n",
      "dense_2 (Dense)              (None, 51)                3315      \n",
      "=================================================================\n",
      "Total params: 33,011\n",
      "Trainable params: 33,011\n",
      "Non-trainable params: 0\n",
      "_________________________________________________________________\n"
     ]
    }
   ],
   "source": [
    "model.summary()"
   ]
  },
  {
   "cell_type": "code",
   "execution_count": 71,
   "metadata": {},
   "outputs": [
    {
     "name": "stdout",
     "output_type": "stream",
     "text": [
      "Epoch 1/60\n",
      "33320/33320 [==============================] - 111s 3ms/step - loss: 2.4774\n",
      "\n",
      "----- Generating text after Epoch: 0\n",
      "----- diversity: 0.2\n",
      "----- Generating with seed: \" power--how could you live in accordance\"\n",
      " power--how could you live in accordance the the there the the the the rofire fore the which wore the soule the in the sous the serenting the whithen the the pore the prention the whith of of of of of and and the serertition the the the the sous the pore the the the the reserention the sour the the soun the phis of of exther of alle and the which the phis of of of and the the the the the the the the the there the the the reser the rofer\n",
      "----- diversity: 0.5\n",
      "----- Generating with seed: \" power--how could you live in accordance\"\n",
      " power--how could you live in accordance, therisitian the thic thithe the the the the soponicito and lout porithe forsing, the seat is of of of the phe where of hingentirat honous sour in on the wict of an and and of of allaserstong beenis in of one the sound bely, the soren the sonesing, bererinely, the the there he and withice poretiens, in to which the the peste thile the pise, whet the ande and masounter the lone the soully sore the\n",
      "----- diversity: 1.0\n",
      "----- Generating with seed: \" power--how could you live in accordance\"\n",
      " power--how could you live in accordanceom al ofs erligmernand, in in notithith, they on the inetlas tious. exan reateed rice bute,, iin peveredides.-oname usboun s ir formertow onsenge, hermibo, oforertieseg, wieawicu fare with intingciluys, esame\" in in ancents,, ollrasus the pugheltotreinysiritgnt gethi sitmed ninte, whil \"eiundofisl\"ytusn tieste conolfre. willost and. bparer\"quly, of cirios gole, hissuontod rothios and ofonthoffucin\n",
      "----- diversity: 1.2\n",
      "----- Generating with seed: \" power--how could you live in accordance\"\n",
      " power--how could you live in accordance,ned, tiine heretodirin wo,angr, of beitustuof of yleinthuslwiog!oly, dere. whed ofthect.-rmporang, sarfur: lugipirsergblyi iley onerinelofused, asuicorsthe wily, oilszlito. an p it ofurrmidiugh., the ,atcening ypten, ver. to nice beonirhi:esfus whiae ant. igneng, mowith reaen andithucs\" hel tous no thecmamping torotitl anes. fal, girepil tepespnec:o, gryuin og withithg e-wrint ry hinoonomespeowit\n",
      "Epoch 2/60\n",
      "33320/33320 [==============================] - 110s 3ms/step - loss: 2.0828\n",
      "\n",
      "----- Generating text after Epoch: 1\n",
      "----- diversity: 0.2\n",
      "----- Generating with seed: \"granted that this also is only interpret\"\n",
      "granted that this also is only interpreticn to the for the sering of the for the for the with the which the for the sunter the gally of the fare who have the who have of the sould the wather to the wather that the wall the self and the sould the world the with the sould to what the sere the sere the sulus of the fare the for the who have of the fare the for the suphiss of the for the wather the and and the world of the wather the pore t\n",
      "----- diversity: 0.5\n",
      "----- Generating with seed: \"granted that this also is only interpret\"\n",
      "granted that this also is only interpreto, a persancicn word the the sould and be undertests\" goth non the furse to alursesthed to sugh and of in the ward insernestor that in the fors which the supherowhof the unwilf for every of sull gallesthant pundorged and at whi he to for the inturturto oundersts pordang tha fou the ford to the fare of the and of the the fall thith of the secred to the for the dor of to the for the self and the sel\n",
      "----- diversity: 1.0\n",
      "----- Generating with seed: \"granted that this also is only interpret\"\n",
      "granted that this also is only interprets--furaf astuntirnssthingi\"aluper leweraupher of rofucon tadse, tom\"hminn \" hig mo. midgen pemorsas bechen logh fi -geanp els whach tayuse, prent psill to puthingsalfors\" chir for uble eninf\" to ags to not are is coustion. \"buld than thig the undemplitiinntionsflyty-aster whothe vorsss atsimgs ow\"semped ous vacts, arane to sunowhthink pervory hf byude, thaw to ever one owe. everntcent\" pall agrest\n",
      "----- diversity: 1.2\n",
      "----- Generating with seed: \"granted that this also is only interpret\"\n",
      "granted that this also is only interpretiwin, ask awpor coscany fat lily thoutevet wildus usrorg,\" mavixousfelve agwipliystyof anded; -moulladityser: intrloak-storevas vurino\"\" purphicey of crofaw fon stitposec,-spon, soulwes anlary buer bariog, with, andecte amoust wi her theven: of se sptor, and undofgloted\"-, quely hin pesus peesalusthely inderselfo\"s(soug a ory ko cocgen, che deof \"foues \"nfelule funde irtchiklo, to s mout issunds \"\n",
      "Epoch 3/60\n",
      "33320/33320 [==============================] - 110s 3ms/step - loss: 1.9275\n",
      "\n",
      "----- Generating text after Epoch: 2\n",
      "----- diversity: 0.2\n",
      "----- Generating with seed: \" and apparently opposed things--perhaps \"\n",
      " and apparently opposed things--perhaps and the suphe the suphes and the suphe the mare firll the streed and the mand and the send the suphes and the suphist of the mase of the mere of the sered and the suphith of the sere of the dest one the mere the sere of the experine the suphing and the suphes and the mange and the fard the suphist of the suphe sure of the suphes of the dest our and and sure of and the suphical the sundent and the \n",
      "----- diversity: 0.5\n",
      "----- Generating with seed: \" and apparently opposed things--perhaps \"\n",
      " and apparently opposed things--perhaps oud of the the sence couth dugh a the meante and of the desured the moge ore this prejed inselfect oul of the lagge of free excertion of a the preattund the sere of decen and we have and perlanter the conced the sust certes of inderther our the sperie an the precase our the deintion of ane the mare they inthange the gand the laght they such the the dest and mand in the pulfout rede sigh inser one \n",
      "----- diversity: 1.0\n",
      "----- Generating with seed: \" and apparently opposed things--perhaps \"\n",
      " and apparently opposed things--perhaps all ast itseralting hay troged, whey mace th. cout ory exerven plourd while the greppre reymeal tayd gort \"be preac? he and nre ore? beto ave carectex, he nnide soo, sperdcery and newens \"the conment, thhinn; nowencos in surbe--we grexen simplior, \"wich dove sertarar the prebe pcreares merophing oulitiongerty regedsel\"s who l, gar thit favlesed\" for furdent, doout every, (undinge owe olthy, the co\n",
      "----- diversity: 1.2\n",
      "----- Generating with seed: \" and apparently opposed things--perhaps \"\n",
      " and apparently opposed things--perhaps surtatienn supthery lagwigal theen irs fro ghels kand  alpillly one prokodent seevily, which st? evilec sunatus ventund ford thity, ane goind intermicely , rerers\" whipt the stou kfilts.\"\" a saeciptence ligralrong? the ko)d waen-beve dafke thoe fregomy one chat dedisplity fatunte-tomnsintly of gromemuct, att ascy, is.le? is aty we cands\"\" will globe gaminsrly? agieshongly, hagaloog io revess it an\n",
      "Epoch 4/60\n",
      "33320/33320 [==============================] - 109s 3ms/step - loss: 1.8209\n",
      "\n",
      "----- Generating text after Epoch: 3\n",
      "----- diversity: 0.2\n",
      "----- Generating with seed: \" the noble and visionary spectators of a\"\n",
      " the noble and visionary spectators of an in the sertion of the sersion of the soully and and the preation of the salled and the sention of the seare the sensed and the soully and and and the sersion of the soully the soully and the soully more and the serse of the salled and the sersed and the prearity and and and a prestion of the sulfout and the sersed to the sursing to suefication of the sersed the sulfion of the streation of the sa\n",
      "----- diversity: 0.5\n",
      "----- Generating with seed: \" the noble and visionary spectators of a\"\n",
      " the noble and visionary spectators of all to a nature the serstions of must onereal in a recemstinge in the solutt revery hat good and the mare the some tare an the sometion which have and the sulust to any and to the save to the semplitian may its have and the sersicust of a perain to hat of ane and sunfane betharing the sentions of the of the pare and and mention of the seation of it which of the freate and the and have which the som\n",
      "----- diversity: 1.0\n",
      "----- Generating with seed: \" the noble and visionary spectators of a\"\n"
     ]
    },
    {
     "name": "stdout",
     "output_type": "stream",
     "text": [
      " the noble and visionary spectators of anae hadinatuenty,\"-ware haderesaledage s elity recoprenoulie doule sous curstion of with very be somuto- abereation pary igal wothing hemenatsy devery-)oty, the crestedmentefthed undidecbekt, sisin--plioosising houribut mirusloy in if he erasy of the \"nowledy wigh self, it we wane us a morts es to the maby will exfillife\" to canding alus sempily to alle to in to eag sersur, and deetion cawiepcos a\n",
      "----- diversity: 1.2\n",
      "----- Generating with seed: \" the noble and visionary spectators of a\"\n",
      " the noble and visionary spectators of an anot mane antacial.  of. wheever. todaepr beuod there froeits, was requintores alesbandebn iscouse becobsequgilne undessment--wilss unfary ilins copuits, any a mesy.  o' say caepstool, nablaorty. unismont perso itsink as paen agay diswiaurdenol aty us endicuslitave so. anfmy how andemmant to tiamment, fous peryomeries ontile it a mame wlecy, path nowills ladget acoured scoure soully, mich eirire\n",
      "Epoch 5/60\n",
      "33320/33320 [==============================] - 105s 3ms/step - loss: 1.7417\n",
      "\n",
      "----- Generating text after Epoch: 4\n",
      "----- diversity: 0.2\n",
      "----- Generating with seed: \"ve endured life--a greek life which he r\"\n",
      "ve endured life--a greek life which he recons of a persion of the serst of the serfer and all the semption of semption of the prestion of the semption of the serst and a platoris of the serficed and a the most and a platority as the serst and at as the mast and a platoric of and and all the stree on every the serst and all and and and and a prestion of the serst and and and a platoric of the sersion, and and as the will to the the senst\n",
      "----- diversity: 0.5\n",
      "----- Generating with seed: \"ve endured life--a greek life which he r\"\n",
      "ve endured life--a greek life which he reces as a the bethan is and a plators of calle of the wat is seas all the cases so the semption of the for the will a possidus is a philosophers of the will as the is gere with as mary of denatially the such as a recous and the may all all all that is the wis it of the most one a plen as the strent that the preared and as or of all and as the and a plalows and as pre! is menal of constions and tha\n",
      "----- diversity: 1.0\n",
      "----- Generating with seed: \"ve endured life--a greek life which he r\"\n",
      "ve endured life--a greek life which he ruse wis  a find as since--a nat cansy oour the soed to molinge of wimn the was unathoredicgy, and mother, seection of all to bay \"vans and is gansibur) consely the \"ality, is comaled you, is ulong to the lapplatiog and thingsyrit, all we fore re--and therethas of  onlw as to suphe long thas a pers the  alowe of orees--whay with the tereptiond: agessulf, and for sistionsw sens, as a rean\" spore dos\n",
      "----- diversity: 1.2\n",
      "----- Generating with seed: \"ve endured life--a greek life which he r\"\n",
      "ve endured life--a greek life which he rel, , ove vaak quemant it keess \"he liwhly cawinar, to and at is crackiolity in ulto onligly, thariwif \"strieks mo who hat iuts, and the cew all bidqu-sumiord this of the bealle adge-suty a done we. the wiy thoubthing ohan nst mist yen ace on and all and rearddrequedamed wind with fecise youphdsed alwaased as tyur spensition; moofmered coaf . was als doomm luster a' abll\" ne, that to and a partis \n",
      "Epoch 6/60\n",
      "33320/33320 [==============================] - 110s 3ms/step - loss: 1.6756\n",
      "\n",
      "----- Generating text after Epoch: 5\n",
      "----- diversity: 0.2\n",
      "----- Generating with seed: \"\" it could endure--or to speak more plai\"\n",
      "\" it could endure--or to speak more plained and the sensed they may the sensed in the light to the suphical to the logise there the sensed and the self--intered the sensed they the sensed and more and the canse and all the most and a presention of the sensed there the sensed and the suphoser the sensed and the sensed and the sensed and the sensed and the sensed and the sensed and calle the sensed and the sensed and the light to the prea\n",
      "----- diversity: 0.5\n",
      "----- Generating with seed: \"\" it could endure--or to speak more plai\"\n",
      "\" it could endure--or to speak more plain the onter of anerestome of the dusience at in the strenture they the an itses of the logrest and mare the sone theme lid trears of \"freed and the raty, there spiritions eary the such or. they belient doungely, of the light to sense--ally falled. is the rimplate as in the the logrestly sense of whenes and have pele in consequente in the must there the repare there the most seestion of its of the \n",
      "----- diversity: 1.0\n",
      "----- Generating with seed: \"\" it could endure--or to speak more plai\"\n",
      "\" it could endure--or to speak more plain of noud: waildo has eadre ind oucwier, the aboure rewience wethess burespisite, itheous of kundure ance anyappetityty, and vareistys of who bething peryate wis, with seaey in the leverstured a it vary sometises gerees any of oncerte that to despolaitionahe or; coulth\" herefery, conhipess refoure not besompares irses rebagne faven nor alis! one which beent, and \"onient baring supposouted of reans\n",
      "----- diversity: 1.2\n",
      "----- Generating with seed: \"\" it could endure--or to speak more plai\"\n",
      "\" it could endure--or to speak more plaile\" for that thehin, andidiouies of whech an everte \"bowithmentricizstry intan-oubensom landsly offe--pelamus outs therefill\"-sefferitionbl, are enro, and,'sior))ies lif freive gnilust as a care free: pur. the veawe oy they agalial fort conay it with ole\"s sudk suphizouy mostsi nould their cunston) jude\" more not in the quealuty, wuth a were spilaimalsiodian hatain\"ise,i inhonrest? such a tasiped.\n",
      "Epoch 7/60\n",
      "33320/33320 [==============================] - 104s 3ms/step - loss: 1.6204\n",
      "\n",
      "----- Generating text after Epoch: 6\n",
      "----- diversity: 0.2\n",
      "----- Generating with seed: \"keep our hand fast on the helm! we sail \"\n",
      "keep our hand fast on the helm! we sail are the streed the strem, and as the senstion of the sense and as all the conception of the father the concestion of the conception, and spele are spere the some one streed the sensitians of the conception, as the self-gore as all the father the free ontrest and spele the will to the conception, as the some a respention of the some one the senstion, and the serdent the sense of the one the constio\n",
      "----- diversity: 0.5\n",
      "----- Generating with seed: \"keep our hand fast on the helm! we sail \"\n",
      "keep our hand fast on the helm! we sail prowity of the sense and are the conception, it has all action, a presence the semptions of say, whate beligefore the oncust the self-most the lempted as a plite of very as the some final of an of mecare the must the called reced the condicture the ones--lid of mecarare wis regaling conse part the concequest as simple proure in the imperhapere the instinctions of the fall the will them. be the far\n",
      "----- diversity: 1.0\n",
      "----- Generating with seed: \"keep our hand fast on the helm! we sail \"\n",
      "keep our hand fast on the helm! we sail sferimantlesyphizowigs is defice to thils, aboughtmokge vury if allyenest they seeption. the nomactive, be for excience it, in dayming that truphs thic form the simple prefity \"theuins exstisply rethers a prestiver crarefrave and stenity-lecushess, the endt mis genan, who his is as instandse, and experfeatan, when the, socring trow bespedun undersistemm doubwhatinn- of thengise fay ye whate of vau\n",
      "----- diversity: 1.2\n",
      "----- Generating with seed: \"keep our hand fast on the helm! we sail \"\n",
      "keep our hand fast on the helm! we sail murs!\" also en bes, or owlo sfuenly d. but is the histrounlity, hers, fachigis drevention, noplilesmornxable aevemectareess reasd, bealok--tuun kand mist gree; for meaks, kabrigurinely quieligefimicial\" anrerd unthowing cruth, lick\", the lotever suchores; falsor\" the exise instinttifcely, ardimurals of wis sign-urcempralicy a nomelyched such reefithcrixt grame matally dours: is marnods\",s to kard \n",
      "Epoch 8/60\n",
      "33320/33320 [==============================] - 108s 3ms/step - loss: 1.5760\n",
      "\n",
      "----- Generating text after Epoch: 7\n",
      "----- diversity: 0.2\n",
      "----- Generating with seed: \"olisher, talk of \"inspiration\"), whereas\"\n"
     ]
    },
    {
     "name": "stdout",
     "output_type": "stream",
     "text": [
      "olisher, talk of \"inspiration\"), whereas the senses and the sense of the fath and the world--and the fare and the father the sense of the intersing to a the sense on the fath and the fare as the father and the fath and the sense and consequentes and the will to be the world, and the intersing to the father the world--and the fard the one and and the sensess the father the sense the fard the will to the father and streation of the fare o\n",
      "----- diversity: 0.5\n",
      "----- Generating with seed: \"olisher, talk of \"inspiration\"), whereas\"\n",
      "olisher, talk of \"inspiration\"), whereas is the was the mosany to a saintions and sulfed on the constinct and arcy and supposition of more of expention of the intersict to the one the interpenation of the hat it is the ward the singlity the strong in the sense of the contractive that that the intersing a persinge and mose of cande the father the falter on the father the entingly the will a deselves and the fath a the incertion of a plit\n",
      "----- diversity: 1.0\n",
      "----- Generating with seed: \"olisher, talk of \"inspiration\"), whereas\"\n",
      "olisher, talk of \"inspiration\"), wherease appyne a syntans\". his answith \"deicts at thoughing and undament of canesed; which veatedung, wild: in the comatoins and-gir all at the \"paoker popus dasingly absurle! of itser your everything littrew \"foral deswraty stond cessing prace frech with the interse\"s of a prow on expresaitionto\"s esyns. thou! \"sith underself, and mas may de uncon the ister the best loffer it is to dimeless tremestion \n",
      "----- diversity: 1.2\n",
      "----- Generating with seed: \"olisher, talk of \"inspiration\"), whereas\"\n",
      "olisher, talk of \"inspiration\"), whereas philosous )overy, tame, the 'will\" masiits tfonging concail, to every and mosuan say tinerion sayh ringlesus renothesbles as pectied esus-read'e ourserd brccikes to be opyser hintelf concaunce ex the logming rigk\" in equent funcearly,s\"--a decult recerpetels philosidse lid fictry beabceess, his wempeny. than in the wis operang, zo perhtythes (it, on interctsiticists to secin? but ivertong opedirs\n",
      "Epoch 9/60\n",
      "33320/33320 [==============================] - 107s 3ms/step - loss: 1.5384\n",
      "\n",
      "----- Generating text after Epoch: 8\n",
      "----- diversity: 0.2\n",
      "----- Generating with seed: \"ast be entitled to demand in return that\"\n",
      "ast be entitled to demand in return that to the sense and to a presest and to the sense of supersing to the senses and to a presest and to a preserved and to a present and the sempenting to the sense of the sense of the sense and and suphosophers and such a still of all to the sense and suphosopers and and and suphosophers it something to sould of an and and and seess and to may in the sense of the sense and and suphosopher to the sense\n",
      "----- diversity: 0.5\n",
      "----- Generating with seed: \"ast be entitled to demand in return that\"\n",
      "ast be entitled to demand in return that in the greates of the supurst itself of something tometions of impalse as to understry and persincess, in the sersing to a conceation one an in a pristian and suphonogans and subben--what it wan in experient to soed of the one an experient to they comanies of would persinces of the ituesting to the soul this suptoon man to an moraling more for existess of the sould upherections of the fare and on\n",
      "----- diversity: 1.0\n",
      "----- Generating with seed: \"ast be entitled to demand in return that\"\n",
      "ast be entitled to demand in return that is also und regeiring touthee which in speresity--or a plicent and toubst recomplaicies itserming to the stunds, in as is to doow  aspould and expmote or acaupe as it is agasenous opino. thereberdescoser hilas tocrowny and rear make fured toong be to distroug and floece in eiser a tor aboomarm foric of the and ofnea belovere must underpusience, but suparres or to an dean would understrayes and ha\n",
      "----- diversity: 1.2\n",
      "----- Generating with seed: \"ast be entitled to demand in return that\"\n",
      "ast be entitled to demand in return that as to uszific as oncsupalyonog, concected agas of plaitions ab-behminy of\"esly nother, and to noudf; fand ig. and serdten buther, agesestide in. amenyescous proove tercersif: to are hiiringly whorevert, or onterness, aboling tole to hiwace tough miake-\"peonire, stare mask on question philosophers a for ilforimefw itself-ssill lence. hin lampainate dossem, in apray refacessing ows itselfuees inocy\n",
      "Epoch 10/60\n",
      "33320/33320 [==============================] - 104s 3ms/step - loss: 1.5039\n",
      "\n",
      "----- Generating text after Epoch: 9\n",
      "----- diversity: 0.2\n",
      "----- Generating with seed: \"dness and haughtiness is immediately aro\"\n",
      "dness and haughtiness is immediately around the sense and free sense and the sense and the sense and suphopenhape been and the sense and the sense and the sense and the sense of the sense and suppos of the served to the sense and and the sense and the sensed the sense and the sense and the sense and suppos of the sense of the sense and has and the sense and suphose and the sense and the sense and the sense in the serves and the sensed t\n",
      "----- diversity: 0.5\n",
      "----- Generating with seed: \"dness and haughtiness is immediately aro\"\n",
      "dness and haughtiness is immediately around the word the sense and the consequently and the strughly, who gerst the sersistical persent is the some the some in--rance itselfe--the pat cause and perstion of thing in it is to desic of supition it is all the servence to south and the strengly constinct and more supo sees an when with the sersis of a loghity and the sense the sees in the sense and the strome this the serration of the will a\n",
      "----- diversity: 1.0\n",
      "----- Generating with seed: \"dness and haughtiness is immediately aro\"\n",
      "dness and haughtiness is immediately arole seluate-\"fore spirit, on the groulsered far the that thus foral were which queltery; go kinds to thereer itseling the if ace to blig mfore\"gors when is not any hor sheloof ksuch see\" came the sickly instance--and the vailing wis preb maquiness that the here, co dothing lorners of kan edridibely, than will nay foalth, it his hatain chne enyjornes wrearhed mogan that the mosisto his pans is the c\n",
      "----- diversity: 1.2\n",
      "----- Generating with seed: \"dness and haughtiness is immediately aro\"\n",
      "dness and haughtiness is immediately aropephasoyori med the pacuaus of thes ould it. has neverd, fhat not to be-distoders, and but to kes, no could, seafhors whot such canthanieds opes of lethed conueccuphoepe itarn tave miarable connoge unachapiding torut'y to dasero habunal which has dartive hishight tinger at; hem\" mei. effated gramshtly such the retisple, when it  sowe freent, ir shals unfrago-inayes ic hee aur qurlogion withabefiri\n",
      "Epoch 11/60\n",
      "33320/33320 [==============================] - 115s 3ms/step - loss: 1.4743\n",
      "\n",
      "----- Generating text after Epoch: 10\n",
      "----- diversity: 0.2\n",
      "----- Generating with seed: \"de whether the sight of it would necessa\"\n",
      "de whether the sight of it would necessations of the fat all the world, and the world, and the world, and the world, and the world, and a plejophed one who distined the one such as the which a still to be developed the growes and a presestion of the one when the world, and the greates and been the existence of the destention of the one so the probeces of all the world, and the for the sense and a plejopition of the far the sense a disge\n",
      "----- diversity: 0.5\n",
      "----- Generating with seed: \"de whether the sight of it would necessa\"\n",
      "de whether the sight of it would necessations and the fart iden life. the soully would now of its and have a ditter and and sense and midere that the interpretention of the vaition, and as the recality of man one despertions, and the who kind the most the word of the who kindsholf one of the one like is the word one with have been who keepition of such a sental indession of the \"good of how a deced a presest of it all and the will to be\n",
      "----- diversity: 1.0\n",
      "----- Generating with seed: \"de whether the sight of it would necessa\"\n"
     ]
    },
    {
     "name": "stdout",
     "output_type": "stream",
     "text": [
      "de whether the sight of it would necessacie how we exersted when, hy it co presestary daive presessalmentarly, men hehes, whechy how like phinis prefatust nould fori mecidin, or orkess. theme? , the kwould gerewher. whatew sucheded \"moded nay ality hingnoated and perhapse--nothing therere: the alloverbled geruld- mo how abmeet tide have of suexplanter ond one condianal curtented, condewer, are the word constiny, when one the best at the\n",
      "----- diversity: 1.2\n",
      "----- Generating with seed: \"de whether the sight of it would necessa\"\n",
      "de whether the sight of it would necessalce, must of the iction so agetatse hogedding whurese for \"thartay. chure, a negativated mose, condencbley heassessest. sould revaured live the philosopheds and ones, thatcernest to diftexen of the world. to we has f outh--cedmen \"suice, consequentle, abunquition, ams lutip ols speen all one  wholh very excriries\"--altive nogre, whechingan of cun, he preot witlerester where, a koo thy aphinos an m\n",
      "Epoch 12/60\n",
      "33320/33320 [==============================] - 108s 3ms/step - loss: 1.4505\n",
      "\n",
      "----- Generating text after Epoch: 11\n",
      "----- diversity: 0.2\n",
      "----- Generating with seed: \"at the subject \"i\" is the condition of t\"\n",
      "at the subject \"i\" is the condition of the case and at a plen in itself in or a present to are the probed and the sense and at a still probut there it is all the sers there it is all the probed and and and and and and and and and all the most a still prount of the sense and all the probed and as a presess there it is all the probect of the world, and a mant of the more of the sense and and the sense and all the sense and at a preneds an\n",
      "----- diversity: 0.5\n",
      "----- Generating with seed: \"at the subject \"i\" is the condition of t\"\n",
      "at the subject \"i\" is the condition of the sense in it way and the problemicions of most the some as make or a pat as promogus its it ward, and the sense as all these silf only one other and and also the sense far hewer there as a pleare he subken with the probad inderenting of things prefornet, and the more and for the more betoat on it, it is more there as eque in the sense lengine of it is all the more have for who kind of truth, it \n",
      "----- diversity: 1.0\n",
      "----- Generating with seed: \"at the subject \"i\" is the condition of t\"\n",
      "at the subject \"i\" is the condition of truth who deciscestow, a live firer estlecrren araph, it every hather a mound even the kard of certion bowoundly as enthurations and with no are frugglat quice there his most yousys as as all time he truth mo hithervare the partury haterens on clatousness, how with the waress\" o or a reped, that casnous. il cert on an mort-feadse, a phes dung even the pursudine itylion reservely and it man lucn, su\n",
      "----- diversity: 1.2\n",
      "----- Generating with seed: \"at the subject \"i\" is the condition of t\"\n",
      "at the subject \"i\" is the condition of thens\" we, ther,\" agapher aclistomf who dores us, has hesensous orderminresh, to belem which say? rigelity 7uth his xobldration will they yours. there how reyoun rasentray reas with arputise, it the purbanesss adde outh--the froreloud! soul love nommuthicusly there iverpenstion which metause who days. with thungle most-., theuth-but them brusion worthtanneved apus\"utunte a waokes its permost fanthe\n",
      "Epoch 13/60\n",
      "33320/33320 [==============================] - 111s 3ms/step - loss: 1.4283\n",
      "\n",
      "----- Generating text after Epoch: 12\n",
      "----- diversity: 0.2\n",
      "----- Generating with seed: \" happy--a species about whom moralists a\"\n",
      " happy--a species about whom moralists and the sense and most an intertood of the interciality and the suput and being of the sense and the sense and most a single that the sense and most the problem of consequently and the sense of the one which we far the suchest or the will to be more prieate that the sense and must of the sense and such as the sense and persans of its one most the probades of the probed the problem and interperaitio\n",
      "----- diversity: 0.5\n",
      "----- Generating with seed: \" happy--a species about whom moralists a\"\n",
      " happy--a species about whom moralists and persans also belone one suchomolated good consequently chire nocent in things and most be belongs. such as personal to the sufrecom an any man neverion which the sense eviliner this in the will to be deadic all an interperaition of the streal prieaded of suples lif the compurtely their class of has mentand a still pointure still most of consequently of such eviring, is a plaition of deally the \n",
      "----- diversity: 1.0\n",
      "----- Generating with seed: \" happy--a species about whom moralists a\"\n",
      " happy--a species about whom moralists as faghed the commablly thingly probued dos an purbality lifinecestoit and muat! renomate viririvious of communte: this everimuntry and subuteration, of truft, a the rearichonity sense salkince is only ho an atteest youl of gecs saope, but read. but and every recopiturety him we free still tentain with as to they in the will tyove mentally, it but seationsure\" len. inaupicion of an \"what the sorlit\n",
      "----- diversity: 1.2\n",
      "----- Generating with seed: \" happy--a species about whom moralists a\"\n",
      " happy--a species about whom moralists aut mideration \"t ont lust-life wielong the servicy; instly thing. had \"kor ans the ub-uncosrustas and distow schoeieding is reatt is its ofe cooving, that \" he will not bad, spitiated and would of \"leggrate, the long wele evinoiss upoits of an schionds a foritrs preservally skmeatiue growoun \"faling ous or m upteratee goredest \"sirime no endjost disterment eantertowing \"the thiloby! was tiver itse\n",
      "Epoch 14/60\n",
      "33320/33320 [==============================] - 105s 3ms/step - loss: 1.4105\n",
      "\n",
      "----- Generating text after Epoch: 13\n",
      "----- diversity: 0.2\n",
      "----- Generating with seed: \"l no argument in their favour, but just \"\n",
      "l no argument in their favour, but just the sense and and superstion of the sense and the sense and also the sense and and superstions and and actions and and and and and a still world--and and the sense and with supatse and and superstion of the sense and such as a plato or all the sense and and the sense and such as all the sense and actions and the soul and and for the sense and which man and also the sense and actions and the sense \n",
      "----- diversity: 0.5\n",
      "----- Generating with seed: \"l no argument in their favour, but just \"\n",
      "l no argument in their favour, but just that in the sense longen which man lis poiring of the coully and interpretent eshathes and one of such as sense, when the served to with right to still something which means of granst and furnally of the sense and has and absurthent and interpopuration of the streltounds and of who hand and superstion latsing that it who kee, the sense and \"understand the sense and as the \"bet inde on all the sens\n",
      "----- diversity: 1.0\n",
      "----- Generating with seed: \"l no argument in their favour, but just \"\n",
      "l no argument in their favour, but just andif he ontreto's apposses of the sumfualis wehe not the will resistond and ge belongsw entimanis est lures. they growling cuse fo recempladabe, sunsandigity, for him the struggle chithapicuralis, therrablent and which kind of the strengly is mad ardes of esthed now and on irsurectus farted. there where a strent lys e(it with say, thereby, and beton that it way pat, but freedom on the soull to no\n",
      "----- diversity: 1.2\n",
      "----- Generating with seed: \"l no argument in their favour, but just \"\n",
      "l no argument in their favour, but just coustedsely! ame umoop-ity) lieg, hip suexpla, tran, mun fitrlaction whikese datise, men, and and itself and for ho areah? high all upont to are and \"fars, and synluncusteble am and with a fool certomentism which exidale. the would decerselut \"orden, the side coundany, we vorned, something how \"we was more prearile. that relem. that if mos-could for \"ber and possess, \"am, wie: the senses--and suit\n",
      "Epoch 15/60\n",
      "33320/33320 [==============================] - 108s 3ms/step - loss: 1.3911\n",
      "\n",
      "----- Generating text after Epoch: 14\n",
      "----- diversity: 0.2\n",
      "----- Generating with seed: \"ost as the problem in itself, this terri\"\n"
     ]
    },
    {
     "name": "stdout",
     "output_type": "stream",
     "text": [
      "ost as the problem in itself, this terrigitiant of a the stratiate and the sense and the sense and the sentialise and the soul a presention than in the sense and the sential in the conception of the conception of the strentived the suphoped the sense and the sentialise of the case and constincted the superstition of the cause of the conception of the conception of the interpretical world in the conception of the conception of the concep\n",
      "----- diversity: 0.5\n",
      "----- Generating with seed: \"ost as the problem in itself, this terri\"\n",
      "ost as the problem in itself, this terrigineter of the sentiation of the \"noulfers of the will\" to been signor and stree of whirh for the sentianity believe; there which we position of the solution of the sense and for in itself there as the is and time the becovesili ge always anow something that is a precessitiskids itself in the gaste he revertially south, and philosophers to be subble orkent itself there is a regatosition of the int\n",
      "----- diversity: 1.0\n",
      "----- Generating with seed: \"ost as the problem in itself, this terri\"\n",
      "ost as the problem in itself, this terripounts at in exuthaunege, booking inieps\" about free \"emmot clatedentys dealth a dogany so do morlity alwowesoy tict one how as anomucely; not such, okerst and the siction of regotain, the stoed of menttoushysis younding, and chestence hes. nowners with stracte this ycusice. herabure !\" a loghings of servost bus at also without ctray, and fire insequentity upther is dowing extright ge be for beent\n",
      "----- diversity: 1.2\n",
      "----- Generating with seed: \"ost as the problem in itself, this terri\"\n",
      "ost as the problem in itself, this terrignalinges of ears-specrsioget which is itself mades wat its one ponst wath\" distremanf. indink--logge, jumkelygoud accoun, a which what which, reeard to they our exiscoriiblorgeeblogfulowo an \"chept on more conrementant (upstsomo]ys (forge youds, in exptrom southape inseliuasly, nocnet and bitty, goitud that they stine, or callies, shounder upiristive to the \"belapurie, orsting bear\"why\"ure,\" exel\n",
      "Epoch 16/60\n",
      "27776/33320 [========================>.....] - ETA: 17s - loss: 1.3694"
     ]
    },
    {
     "ename": "KeyboardInterrupt",
     "evalue": "",
     "output_type": "error",
     "traceback": [
      "\u001b[0;31m---------------------------------------------------------------------------\u001b[0m",
      "\u001b[0;31mKeyboardInterrupt\u001b[0m                         Traceback (most recent call last)",
      "\u001b[0;32m<ipython-input-71-12c743c26dd2>\u001b[0m in \u001b[0;36m<module>\u001b[0;34m()\u001b[0m\n\u001b[1;32m     45\u001b[0m           \u001b[0mbatch_size\u001b[0m\u001b[0;34m=\u001b[0m\u001b[0;36m128\u001b[0m\u001b[0;34m,\u001b[0m\u001b[0;34m\u001b[0m\u001b[0m\n\u001b[1;32m     46\u001b[0m           \u001b[0mepochs\u001b[0m\u001b[0;34m=\u001b[0m\u001b[0;36m60\u001b[0m\u001b[0;34m,\u001b[0m\u001b[0;34m\u001b[0m\u001b[0m\n\u001b[0;32m---> 47\u001b[0;31m           callbacks=[print_callback])\n\u001b[0m",
      "\u001b[0;32m/anaconda3/envs/neuralnets/lib/python3.6/site-packages/keras/engine/training.py\u001b[0m in \u001b[0;36mfit\u001b[0;34m(self, x, y, batch_size, epochs, verbose, callbacks, validation_split, validation_data, shuffle, class_weight, sample_weight, initial_epoch, steps_per_epoch, validation_steps, **kwargs)\u001b[0m\n\u001b[1;32m   1035\u001b[0m                                         \u001b[0minitial_epoch\u001b[0m\u001b[0;34m=\u001b[0m\u001b[0minitial_epoch\u001b[0m\u001b[0;34m,\u001b[0m\u001b[0;34m\u001b[0m\u001b[0m\n\u001b[1;32m   1036\u001b[0m                                         \u001b[0msteps_per_epoch\u001b[0m\u001b[0;34m=\u001b[0m\u001b[0msteps_per_epoch\u001b[0m\u001b[0;34m,\u001b[0m\u001b[0;34m\u001b[0m\u001b[0m\n\u001b[0;32m-> 1037\u001b[0;31m                                         validation_steps=validation_steps)\n\u001b[0m\u001b[1;32m   1038\u001b[0m \u001b[0;34m\u001b[0m\u001b[0m\n\u001b[1;32m   1039\u001b[0m     def evaluate(self, x=None, y=None,\n",
      "\u001b[0;32m/anaconda3/envs/neuralnets/lib/python3.6/site-packages/keras/engine/training_arrays.py\u001b[0m in \u001b[0;36mfit_loop\u001b[0;34m(model, f, ins, out_labels, batch_size, epochs, verbose, callbacks, val_f, val_ins, shuffle, callback_metrics, initial_epoch, steps_per_epoch, validation_steps)\u001b[0m\n\u001b[1;32m    197\u001b[0m                     \u001b[0mins_batch\u001b[0m\u001b[0;34m[\u001b[0m\u001b[0mi\u001b[0m\u001b[0;34m]\u001b[0m \u001b[0;34m=\u001b[0m \u001b[0mins_batch\u001b[0m\u001b[0;34m[\u001b[0m\u001b[0mi\u001b[0m\u001b[0;34m]\u001b[0m\u001b[0;34m.\u001b[0m\u001b[0mtoarray\u001b[0m\u001b[0;34m(\u001b[0m\u001b[0;34m)\u001b[0m\u001b[0;34m\u001b[0m\u001b[0m\n\u001b[1;32m    198\u001b[0m \u001b[0;34m\u001b[0m\u001b[0m\n\u001b[0;32m--> 199\u001b[0;31m                 \u001b[0mouts\u001b[0m \u001b[0;34m=\u001b[0m \u001b[0mf\u001b[0m\u001b[0;34m(\u001b[0m\u001b[0mins_batch\u001b[0m\u001b[0;34m)\u001b[0m\u001b[0;34m\u001b[0m\u001b[0m\n\u001b[0m\u001b[1;32m    200\u001b[0m                 \u001b[0mouts\u001b[0m \u001b[0;34m=\u001b[0m \u001b[0mto_list\u001b[0m\u001b[0;34m(\u001b[0m\u001b[0mouts\u001b[0m\u001b[0;34m)\u001b[0m\u001b[0;34m\u001b[0m\u001b[0m\n\u001b[1;32m    201\u001b[0m                 \u001b[0;32mfor\u001b[0m \u001b[0ml\u001b[0m\u001b[0;34m,\u001b[0m \u001b[0mo\u001b[0m \u001b[0;32min\u001b[0m \u001b[0mzip\u001b[0m\u001b[0;34m(\u001b[0m\u001b[0mout_labels\u001b[0m\u001b[0;34m,\u001b[0m \u001b[0mouts\u001b[0m\u001b[0;34m)\u001b[0m\u001b[0;34m:\u001b[0m\u001b[0;34m\u001b[0m\u001b[0m\n",
      "\u001b[0;32m/anaconda3/envs/neuralnets/lib/python3.6/site-packages/keras/backend/tensorflow_backend.py\u001b[0m in \u001b[0;36m__call__\u001b[0;34m(self, inputs)\u001b[0m\n\u001b[1;32m   2664\u001b[0m                 \u001b[0;32mreturn\u001b[0m \u001b[0mself\u001b[0m\u001b[0;34m.\u001b[0m\u001b[0m_legacy_call\u001b[0m\u001b[0;34m(\u001b[0m\u001b[0minputs\u001b[0m\u001b[0;34m)\u001b[0m\u001b[0;34m\u001b[0m\u001b[0m\n\u001b[1;32m   2665\u001b[0m \u001b[0;34m\u001b[0m\u001b[0m\n\u001b[0;32m-> 2666\u001b[0;31m             \u001b[0;32mreturn\u001b[0m \u001b[0mself\u001b[0m\u001b[0;34m.\u001b[0m\u001b[0m_call\u001b[0m\u001b[0;34m(\u001b[0m\u001b[0minputs\u001b[0m\u001b[0;34m)\u001b[0m\u001b[0;34m\u001b[0m\u001b[0m\n\u001b[0m\u001b[1;32m   2667\u001b[0m         \u001b[0;32melse\u001b[0m\u001b[0;34m:\u001b[0m\u001b[0;34m\u001b[0m\u001b[0m\n\u001b[1;32m   2668\u001b[0m             \u001b[0;32mif\u001b[0m \u001b[0mpy_any\u001b[0m\u001b[0;34m(\u001b[0m\u001b[0mis_tensor\u001b[0m\u001b[0;34m(\u001b[0m\u001b[0mx\u001b[0m\u001b[0;34m)\u001b[0m \u001b[0;32mfor\u001b[0m \u001b[0mx\u001b[0m \u001b[0;32min\u001b[0m \u001b[0minputs\u001b[0m\u001b[0;34m)\u001b[0m\u001b[0;34m:\u001b[0m\u001b[0;34m\u001b[0m\u001b[0m\n",
      "\u001b[0;32m/anaconda3/envs/neuralnets/lib/python3.6/site-packages/keras/backend/tensorflow_backend.py\u001b[0m in \u001b[0;36m_call\u001b[0;34m(self, inputs)\u001b[0m\n\u001b[1;32m   2634\u001b[0m                                 \u001b[0msymbol_vals\u001b[0m\u001b[0;34m,\u001b[0m\u001b[0;34m\u001b[0m\u001b[0m\n\u001b[1;32m   2635\u001b[0m                                 session)\n\u001b[0;32m-> 2636\u001b[0;31m         \u001b[0mfetched\u001b[0m \u001b[0;34m=\u001b[0m \u001b[0mself\u001b[0m\u001b[0;34m.\u001b[0m\u001b[0m_callable_fn\u001b[0m\u001b[0;34m(\u001b[0m\u001b[0;34m*\u001b[0m\u001b[0marray_vals\u001b[0m\u001b[0;34m)\u001b[0m\u001b[0;34m\u001b[0m\u001b[0m\n\u001b[0m\u001b[1;32m   2637\u001b[0m         \u001b[0;32mreturn\u001b[0m \u001b[0mfetched\u001b[0m\u001b[0;34m[\u001b[0m\u001b[0;34m:\u001b[0m\u001b[0mlen\u001b[0m\u001b[0;34m(\u001b[0m\u001b[0mself\u001b[0m\u001b[0;34m.\u001b[0m\u001b[0moutputs\u001b[0m\u001b[0;34m)\u001b[0m\u001b[0;34m]\u001b[0m\u001b[0;34m\u001b[0m\u001b[0m\n\u001b[1;32m   2638\u001b[0m \u001b[0;34m\u001b[0m\u001b[0m\n",
      "\u001b[0;32m/anaconda3/envs/neuralnets/lib/python3.6/site-packages/tensorflow/python/client/session.py\u001b[0m in \u001b[0;36m__call__\u001b[0;34m(self, *args, **kwargs)\u001b[0m\n\u001b[1;32m   1380\u001b[0m           ret = tf_session.TF_SessionRunCallable(\n\u001b[1;32m   1381\u001b[0m               \u001b[0mself\u001b[0m\u001b[0;34m.\u001b[0m\u001b[0m_session\u001b[0m\u001b[0;34m.\u001b[0m\u001b[0m_session\u001b[0m\u001b[0;34m,\u001b[0m \u001b[0mself\u001b[0m\u001b[0;34m.\u001b[0m\u001b[0m_handle\u001b[0m\u001b[0;34m,\u001b[0m \u001b[0margs\u001b[0m\u001b[0;34m,\u001b[0m \u001b[0mstatus\u001b[0m\u001b[0;34m,\u001b[0m\u001b[0;34m\u001b[0m\u001b[0m\n\u001b[0;32m-> 1382\u001b[0;31m               run_metadata_ptr)\n\u001b[0m\u001b[1;32m   1383\u001b[0m         \u001b[0;32mif\u001b[0m \u001b[0mrun_metadata\u001b[0m\u001b[0;34m:\u001b[0m\u001b[0;34m\u001b[0m\u001b[0m\n\u001b[1;32m   1384\u001b[0m           \u001b[0mproto_data\u001b[0m \u001b[0;34m=\u001b[0m \u001b[0mtf_session\u001b[0m\u001b[0;34m.\u001b[0m\u001b[0mTF_GetBuffer\u001b[0m\u001b[0;34m(\u001b[0m\u001b[0mrun_metadata_ptr\u001b[0m\u001b[0;34m)\u001b[0m\u001b[0;34m\u001b[0m\u001b[0m\n",
      "\u001b[0;31mKeyboardInterrupt\u001b[0m: "
     ]
    }
   ],
   "source": [
    "def sample(preds, temperature=1.0):\n",
    "    # helper function to sample an index from a probability array\n",
    "    preds = np.asarray(preds).astype('float64')\n",
    "    preds = np.log(preds) / temperature\n",
    "    exp_preds = np.exp(preds)\n",
    "    preds = exp_preds / np.sum(exp_preds)\n",
    "    probas = np.random.multinomial(1, preds, 1)\n",
    "    return np.argmax(probas)\n",
    "\n",
    "\n",
    "def on_epoch_end(epoch, _):\n",
    "    # Function invoked at end of each epoch. Prints generated text.\n",
    "    print()\n",
    "    print('----- Generating text after Epoch: %d' % epoch)\n",
    "\n",
    "    start_index = random.randint(0, len(text) - maxlen - 1)\n",
    "    for diversity in [0.2, 0.5, 1.0, 1.2]:\n",
    "        print('----- diversity:', diversity)\n",
    "\n",
    "        generated = ''\n",
    "        sentence = text[start_index: start_index + maxlen]\n",
    "        generated += sentence\n",
    "        print('----- Generating with seed: \"' + sentence + '\"')\n",
    "        sys.stdout.write(generated)\n",
    "\n",
    "        for i in range(400):\n",
    "            x_pred = np.zeros((1, maxlen, len(chars)))\n",
    "            for t, char in enumerate(sentence):\n",
    "                x_pred[0, t, char_indices[char]] = 1.\n",
    "\n",
    "            preds = model.predict(x_pred, verbose=0)[0]\n",
    "            next_index = sample(preds, diversity)\n",
    "            next_char = indices_char[next_index]\n",
    "\n",
    "            generated += next_char\n",
    "            sentence = sentence[1:] + next_char\n",
    "\n",
    "            sys.stdout.write(next_char)\n",
    "            sys.stdout.flush()\n",
    "        print()\n",
    "\n",
    "print_callback = LambdaCallback(on_epoch_end=on_epoch_end)\n",
    "\n",
    "model.fit(x, y,\n",
    "          batch_size=128,\n",
    "          epochs=60,\n",
    "          callbacks=[print_callback])"
   ]
  },
  {
   "cell_type": "code",
   "execution_count": null,
   "metadata": {},
   "outputs": [],
   "source": [
    "# add word2vec in front?\n"
   ]
  }
 ],
 "metadata": {
  "kernelspec": {
   "display_name": "Python 3",
   "language": "python",
   "name": "python3"
  },
  "language_info": {
   "codemirror_mode": {
    "name": "ipython",
    "version": 3
   },
   "file_extension": ".py",
   "mimetype": "text/x-python",
   "name": "python",
   "nbconvert_exporter": "python",
   "pygments_lexer": "ipython3",
   "version": "3.6.6"
  }
 },
 "nbformat": 4,
 "nbformat_minor": 2
}
